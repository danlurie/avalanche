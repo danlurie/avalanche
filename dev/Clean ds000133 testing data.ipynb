{
 "cells": [
  {
   "cell_type": "code",
   "execution_count": 5,
   "metadata": {
    "collapsed": true
   },
   "outputs": [],
   "source": [
    "import numpy as np\n",
    "import pandas as pd\n",
    "import nibabel as nib\n",
    "from nilearn import input_data, image"
   ]
  },
  {
   "cell_type": "markdown",
   "metadata": {},
   "source": [
    "### Pre-Modafinil"
   ]
  },
  {
   "cell_type": "markdown",
   "metadata": {},
   "source": [
    "Define paths to input data (taken from an `fmriprep` run on OpenNeuro)."
   ]
  },
  {
   "cell_type": "code",
   "execution_count": 19,
   "metadata": {
    "collapsed": true
   },
   "outputs": [],
   "source": [
    "bold_T1w_preproc = '/Users/dlurie/Dropbox/Projects/avalanche/avalanche/data/ds000133/sub-01/pre/sub-01_ses-pre_task-rest_run-01_bold_space-MNI152NLin2009cAsym_preproc.nii.gz'"
   ]
  },
  {
   "cell_type": "code",
   "execution_count": 20,
   "metadata": {
    "collapsed": true
   },
   "outputs": [],
   "source": [
    "bold_T1w_brainmask = '/Users/dlurie/Dropbox/Projects/avalanche/avalanche/data/ds000133/sub-01/pre/sub-01_ses-pre_task-rest_run-01_bold_space-MNI152NLin2009cAsym_brainmask.nii.gz'"
   ]
  },
  {
   "cell_type": "code",
   "execution_count": 8,
   "metadata": {
    "collapsed": true
   },
   "outputs": [],
   "source": [
    "bold_confounds = '/Users/dlurie/Dropbox/Projects/avalanche/avalanche/data/ds000133/sub-01/pre/sub-01_ses-pre_task-rest_run-01_bold_confounds.tsv'"
   ]
  },
  {
   "cell_type": "markdown",
   "metadata": {},
   "source": [
    "Load confounds."
   ]
  },
  {
   "cell_type": "code",
   "execution_count": 9,
   "metadata": {
    "collapsed": true
   },
   "outputs": [],
   "source": [
    "all_confounds = pd.read_csv(bold_confounds, sep='\\t')"
   ]
  },
  {
   "cell_type": "code",
   "execution_count": 10,
   "metadata": {},
   "outputs": [
    {
     "data": {
      "text/plain": [
       "Index(['WhiteMatter', 'GlobalSignal', 'stdDVARS', 'non-stdDVARS',\n",
       "       'vx-wisestdDVARS', 'FramewiseDisplacement', 'tCompCor00', 'tCompCor01',\n",
       "       'tCompCor02', 'tCompCor03', 'tCompCor04', 'tCompCor05', 'aCompCor00',\n",
       "       'aCompCor01', 'aCompCor02', 'aCompCor03', 'aCompCor04', 'aCompCor05',\n",
       "       'Cosine00', 'Cosine01', 'NonSteadyStateOutlier00', 'X', 'Y', 'Z',\n",
       "       'RotX', 'RotY', 'RotZ'],\n",
       "      dtype='object')"
      ]
     },
     "execution_count": 10,
     "metadata": {},
     "output_type": "execute_result"
    }
   ],
   "source": [
    "all_confounds.columns"
   ]
  },
  {
   "cell_type": "code",
   "execution_count": 12,
   "metadata": {
    "collapsed": true
   },
   "outputs": [],
   "source": [
    "nuisance_vars = all_confounds[['aCompCor00', 'aCompCor01', 'aCompCor02', 'aCompCor03', 'aCompCor04', 'aCompCor05',\n",
    "                              'X', 'Y', 'Z', 'RotX', 'RotY', 'RotZ']].copy()"
   ]
  },
  {
   "cell_type": "markdown",
   "metadata": {},
   "source": [
    "Calculate Friston-24 (Yan et al. variant) Motion Parameters"
   ]
  },
  {
   "cell_type": "code",
   "execution_count": 14,
   "metadata": {
    "collapsed": true
   },
   "outputs": [],
   "source": [
    "# Create squared versions of each motion parameter at Tt\n",
    "for mopar in ['X', 'Y', 'Z', 'RotX', 'RotY', 'RotZ']:\n",
    "    sq_col_name = mopar+'sq'\n",
    "    sq_col_data = np.square(nuisance_vars[mopar])\n",
    "    nuisance_vars.loc[:,sq_col_name] = sq_col_data"
   ]
  },
  {
   "cell_type": "code",
   "execution_count": 15,
   "metadata": {
    "collapsed": true
   },
   "outputs": [],
   "source": [
    "zpad = pd.Series([0])\n",
    "for mopar in nuisance_vars.columns[-12:]:\n",
    "    pv_col_name = mopar+'_t-1'\n",
    "    pv_col_data = zpad.append(nuisance_vars[mopar], ignore_index=True)[:-1]\n",
    "    nuisance_vars.loc[:,pv_col_name] = pv_col_data"
   ]
  },
  {
   "cell_type": "code",
   "execution_count": 16,
   "metadata": {
    "scrolled": true
   },
   "outputs": [
    {
     "data": {
      "text/plain": [
       "Index(['aCompCor00', 'aCompCor01', 'aCompCor02', 'aCompCor03', 'aCompCor04',\n",
       "       'aCompCor05', 'X', 'Y', 'Z', 'RotX', 'RotY', 'RotZ', 'Xsq', 'Ysq',\n",
       "       'Zsq', 'RotXsq', 'RotYsq', 'RotZsq', 'X_t-1', 'Y_t-1', 'Z_t-1',\n",
       "       'RotX_t-1', 'RotY_t-1', 'RotZ_t-1', 'Xsq_t-1', 'Ysq_t-1', 'Zsq_t-1',\n",
       "       'RotXsq_t-1', 'RotYsq_t-1', 'RotZsq_t-1'],\n",
       "      dtype='object')"
      ]
     },
     "execution_count": 16,
     "metadata": {},
     "output_type": "execute_result"
    }
   ],
   "source": [
    "nuisance_vars.columns"
   ]
  },
  {
   "cell_type": "markdown",
   "metadata": {},
   "source": [
    "Load EPI image and brain mask."
   ]
  },
  {
   "cell_type": "code",
   "execution_count": 21,
   "metadata": {
    "collapsed": true
   },
   "outputs": [],
   "source": [
    "epi_img = image.load_img(bold_T1w_preproc)"
   ]
  },
  {
   "cell_type": "code",
   "execution_count": 22,
   "metadata": {
    "collapsed": true
   },
   "outputs": [],
   "source": [
    "mask_img = image.load_img(bold_T1w_brainmask)"
   ]
  },
  {
   "cell_type": "markdown",
   "metadata": {},
   "source": [
    "Clean EPI image (do not standardize values)"
   ]
  },
  {
   "cell_type": "code",
   "execution_count": 41,
   "metadata": {
    "collapsed": true
   },
   "outputs": [],
   "source": [
    "clean_img = image.clean_img(epi_img, detrend=True, standardize=False, confounds=nuisance_vars.as_matrix(), low_pass=0.1, high_pass=0.01, t_r=1.671)"
   ]
  },
  {
   "cell_type": "code",
   "execution_count": 42,
   "metadata": {
    "collapsed": true
   },
   "outputs": [],
   "source": [
    "clean_img.to_filename('/Users/dlurie/Dropbox/Projects/avalanche/avalanche/data/ds000133/sub-01/pre/sub-01_ses-pre_task-rest_run-01_bold_space-MNI152NLin2009cAsym_clean.nii.gz')"
   ]
  },
  {
   "cell_type": "markdown",
   "metadata": {},
   "source": [
    "Clean EPI image (standardize values)"
   ]
  },
  {
   "cell_type": "code",
   "execution_count": 39,
   "metadata": {
    "collapsed": true
   },
   "outputs": [],
   "source": [
    "clean_img_std = image.clean_img(epi_img, detrend=True, standardize=True, confounds=nuisance_vars.as_matrix(), low_pass=0.1, high_pass=0.01, t_r=1.671)"
   ]
  },
  {
   "cell_type": "code",
   "execution_count": 40,
   "metadata": {
    "collapsed": true
   },
   "outputs": [],
   "source": [
    "clean_img_std.to_filename('/Users/dlurie/Dropbox/Projects/avalanche/avalanche/data/ds000133/sub-01/pre/sub-01_ses-pre_task-rest_run-01_bold_space-MNI152NLin2009cAsym_clean_std.nii.gz')"
   ]
  },
  {
   "cell_type": "markdown",
   "metadata": {},
   "source": [
    "Smooth standardized image"
   ]
  },
  {
   "cell_type": "code",
   "execution_count": 47,
   "metadata": {
    "collapsed": true
   },
   "outputs": [],
   "source": [
    "clean_img_std_fwhm6 = image.smooth_img(clean_img_std, 6)"
   ]
  },
  {
   "cell_type": "code",
   "execution_count": 48,
   "metadata": {
    "collapsed": true
   },
   "outputs": [],
   "source": [
    "clean_img_std_fwhm6.to_filename('/Users/dlurie/Dropbox/Projects/avalanche/avalanche/data/ds000133/sub-01/pre/sub-01_ses-pre_task-rest_run-01_bold_space-MNI152NLin2009cAsym_clean_std_fwhm6.nii.gz')"
   ]
  },
  {
   "cell_type": "markdown",
   "metadata": {},
   "source": [
    "### Post-Modafinil"
   ]
  },
  {
   "cell_type": "markdown",
   "metadata": {},
   "source": [
    "Define paths to input data (taken from an `fmriprep` run on OpenNeuro)."
   ]
  },
  {
   "cell_type": "code",
   "execution_count": 1,
   "metadata": {
    "collapsed": true
   },
   "outputs": [],
   "source": [
    "bold_T1w_preproc = '/Users/dlurie/Dropbox/Projects/avalanche/avalanche/data/ds000133/sub-01/post/sub-01_ses-post_task-rest_run-01_bold_space-MNI152NLin2009cAsym_preproc.nii.gz'"
   ]
  },
  {
   "cell_type": "code",
   "execution_count": 2,
   "metadata": {
    "collapsed": true
   },
   "outputs": [],
   "source": [
    "bold_T1w_brainmask = '/Users/dlurie/Dropbox/Projects/avalanche/avalanche/data/ds000133/sub-01/post/sub-01_ses-post_task-rest_run-01_bold_space-MNI152NLin2009cAsym_brainmask.nii.gz'"
   ]
  },
  {
   "cell_type": "code",
   "execution_count": 3,
   "metadata": {
    "collapsed": true
   },
   "outputs": [],
   "source": [
    "bold_confounds = '/Users/dlurie/Dropbox/Projects/avalanche/avalanche/data/ds000133/sub-01/post/sub-01_ses-post_task-rest_run-01_bold_confounds.tsv'"
   ]
  },
  {
   "cell_type": "markdown",
   "metadata": {},
   "source": [
    "Load confounds."
   ]
  },
  {
   "cell_type": "code",
   "execution_count": 6,
   "metadata": {},
   "outputs": [],
   "source": [
    "all_confounds = pd.read_csv(bold_confounds, sep='\\t')"
   ]
  },
  {
   "cell_type": "code",
   "execution_count": 7,
   "metadata": {},
   "outputs": [
    {
     "data": {
      "text/plain": [
       "Index(['WhiteMatter', 'GlobalSignal', 'stdDVARS', 'non-stdDVARS',\n",
       "       'vx-wisestdDVARS', 'FramewiseDisplacement', 'tCompCor00', 'tCompCor01',\n",
       "       'tCompCor02', 'tCompCor03', 'tCompCor04', 'tCompCor05', 'aCompCor00',\n",
       "       'aCompCor01', 'aCompCor02', 'aCompCor03', 'aCompCor04', 'aCompCor05',\n",
       "       'Cosine00', 'Cosine01', 'X', 'Y', 'Z', 'RotX', 'RotY', 'RotZ'],\n",
       "      dtype='object')"
      ]
     },
     "execution_count": 7,
     "metadata": {},
     "output_type": "execute_result"
    }
   ],
   "source": [
    "all_confounds.columns"
   ]
  },
  {
   "cell_type": "code",
   "execution_count": 8,
   "metadata": {
    "collapsed": true
   },
   "outputs": [],
   "source": [
    "nuisance_vars = all_confounds[['aCompCor00', 'aCompCor01', 'aCompCor02', 'aCompCor03', 'aCompCor04', 'aCompCor05',\n",
    "                              'X', 'Y', 'Z', 'RotX', 'RotY', 'RotZ']].copy()"
   ]
  },
  {
   "cell_type": "markdown",
   "metadata": {},
   "source": [
    "Calculate Friston-24 (Yan et al. variant) Motion Parameters"
   ]
  },
  {
   "cell_type": "code",
   "execution_count": 9,
   "metadata": {
    "collapsed": true
   },
   "outputs": [],
   "source": [
    "# Create squared versions of each motion parameter at Tt\n",
    "for mopar in ['X', 'Y', 'Z', 'RotX', 'RotY', 'RotZ']:\n",
    "    sq_col_name = mopar+'sq'\n",
    "    sq_col_data = np.square(nuisance_vars[mopar])\n",
    "    nuisance_vars.loc[:,sq_col_name] = sq_col_data"
   ]
  },
  {
   "cell_type": "code",
   "execution_count": 10,
   "metadata": {
    "collapsed": true
   },
   "outputs": [],
   "source": [
    "zpad = pd.Series([0])\n",
    "for mopar in nuisance_vars.columns[-12:]:\n",
    "    pv_col_name = mopar+'_t-1'\n",
    "    pv_col_data = zpad.append(nuisance_vars[mopar], ignore_index=True)[:-1]\n",
    "    nuisance_vars.loc[:,pv_col_name] = pv_col_data"
   ]
  },
  {
   "cell_type": "code",
   "execution_count": 11,
   "metadata": {
    "scrolled": true
   },
   "outputs": [
    {
     "data": {
      "text/plain": [
       "Index(['aCompCor00', 'aCompCor01', 'aCompCor02', 'aCompCor03', 'aCompCor04',\n",
       "       'aCompCor05', 'X', 'Y', 'Z', 'RotX', 'RotY', 'RotZ', 'Xsq', 'Ysq',\n",
       "       'Zsq', 'RotXsq', 'RotYsq', 'RotZsq', 'X_t-1', 'Y_t-1', 'Z_t-1',\n",
       "       'RotX_t-1', 'RotY_t-1', 'RotZ_t-1', 'Xsq_t-1', 'Ysq_t-1', 'Zsq_t-1',\n",
       "       'RotXsq_t-1', 'RotYsq_t-1', 'RotZsq_t-1'],\n",
       "      dtype='object')"
      ]
     },
     "execution_count": 11,
     "metadata": {},
     "output_type": "execute_result"
    }
   ],
   "source": [
    "nuisance_vars.columns"
   ]
  },
  {
   "cell_type": "markdown",
   "metadata": {},
   "source": [
    "Load EPI image and brain mask."
   ]
  },
  {
   "cell_type": "code",
   "execution_count": 12,
   "metadata": {
    "collapsed": true
   },
   "outputs": [],
   "source": [
    "epi_img = image.load_img(bold_T1w_preproc)"
   ]
  },
  {
   "cell_type": "code",
   "execution_count": 13,
   "metadata": {
    "collapsed": true
   },
   "outputs": [],
   "source": [
    "mask_img = image.load_img(bold_T1w_brainmask)"
   ]
  },
  {
   "cell_type": "markdown",
   "metadata": {},
   "source": [
    "Clean EPI image (do not standardize values)"
   ]
  },
  {
   "cell_type": "code",
   "execution_count": 14,
   "metadata": {
    "collapsed": true
   },
   "outputs": [],
   "source": [
    "clean_img = image.clean_img(epi_img, detrend=True, standardize=False, confounds=nuisance_vars.as_matrix(), low_pass=0.1, high_pass=0.01, t_r=1.671)"
   ]
  },
  {
   "cell_type": "code",
   "execution_count": 15,
   "metadata": {
    "collapsed": true
   },
   "outputs": [],
   "source": [
    "clean_img.to_filename('/Users/dlurie/Dropbox/Projects/avalanche/avalanche/data/ds000133/sub-01/post/sub-01_ses-post_task-rest_run-01_bold_space-MNI152NLin2009cAsym_clean.nii.gz')"
   ]
  },
  {
   "cell_type": "markdown",
   "metadata": {},
   "source": [
    "Clean EPI image (standardize values)"
   ]
  },
  {
   "cell_type": "code",
   "execution_count": 16,
   "metadata": {
    "collapsed": true
   },
   "outputs": [],
   "source": [
    "clean_img_std = image.clean_img(epi_img, detrend=True, standardize=True, confounds=nuisance_vars.as_matrix(), low_pass=0.1, high_pass=0.01, t_r=1.671)"
   ]
  },
  {
   "cell_type": "code",
   "execution_count": 17,
   "metadata": {
    "collapsed": true
   },
   "outputs": [],
   "source": [
    "clean_img_std.to_filename('/Users/dlurie/Dropbox/Projects/avalanche/avalanche/data/ds000133/sub-01/post/sub-01_ses-post_task-rest_run-01_bold_space-MNI152NLin2009cAsym_clean_std.nii.gz')"
   ]
  },
  {
   "cell_type": "markdown",
   "metadata": {},
   "source": [
    "Smooth standardized image"
   ]
  },
  {
   "cell_type": "code",
   "execution_count": 18,
   "metadata": {
    "collapsed": true
   },
   "outputs": [],
   "source": [
    "clean_img_std_fwhm6 = image.smooth_img(clean_img_std, 6)"
   ]
  },
  {
   "cell_type": "code",
   "execution_count": 19,
   "metadata": {
    "collapsed": true
   },
   "outputs": [],
   "source": [
    "clean_img_std_fwhm6.to_filename('/Users/dlurie/Dropbox/Projects/avalanche/avalanche/data/ds000133/sub-01/post/sub-01_ses-post_task-rest_run-01_bold_space-MNI152NLin2009cAsym_clean_std_fwhm6.nii.gz')"
   ]
  }
 ],
 "metadata": {
  "kernelspec": {
   "display_name": "Python 3",
   "language": "python",
   "name": "python3"
  },
  "language_info": {
   "codemirror_mode": {
    "name": "ipython",
    "version": 3
   },
   "file_extension": ".py",
   "mimetype": "text/x-python",
   "name": "python",
   "nbconvert_exporter": "python",
   "pygments_lexer": "ipython3",
   "version": "3.6.1"
  }
 },
 "nbformat": 4,
 "nbformat_minor": 2
}
